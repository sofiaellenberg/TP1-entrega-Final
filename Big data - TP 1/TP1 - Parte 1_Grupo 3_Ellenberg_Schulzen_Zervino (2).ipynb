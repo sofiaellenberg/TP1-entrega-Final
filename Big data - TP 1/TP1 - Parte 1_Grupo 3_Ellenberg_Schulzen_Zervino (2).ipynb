{
 "cells": [
  {
   "cell_type": "markdown",
   "metadata": {
    "collapsed": true,
    "id": "Dh8MkXaG-c9Y",
    "jupyter": {
     "outputs_hidden": true
    }
   },
   "source": [
    "# Curso de Big Data. Otoño 2024\n",
    "\n",
    "## Trabajo Práctico 1 - Parte 1 "
   ]
  },
  {
   "cell_type": "markdown",
   "metadata": {
    "id": "RhBlm6mZ-c9e"
   },
   "source": [
    "### Reglas de formato y presentación\n",
    "- El trabajo debe estar bien comentado (utilizando #) para que el código sea fácil de entender por sus compañeros y profesores.\n",
    "\n",
    "- El mismo debe ser completado en este Jupyter Notebook y entregado como tal, es decir en un archivo .ipynb\n"
   ]
  },
  {
   "cell_type": "markdown",
   "metadata": {
    "id": "ZEjGaa4U-c9g"
   },
   "source": [
    "### Fecha de entrega:\n",
    "Domingo 24 de marzo a las 23:59hs"
   ]
  },
  {
   "cell_type": "markdown",
   "metadata": {
    "id": "N9TU2y7E-c9h"
   },
   "source": [
    "### Modalidad de entrega\n",
    "- Al finalizar el trabajo práctico deben hacer un último <i>commit</i> en su repositorio de GitHub con el mensaje “Entrega final del tp”. \n",
    "- Asegurense de haber creado una carpeta llamada TP1. Este Jupyter Notebook y el correspondiente al TP1 - Parte 2 deben estar dentro de esa carpeta.\n",
    "- También deben enviar el link de su repositorio -para que pueda ser clonado y corregido- al siguiente email: v.oubina@gmail.com\n",
    "- La última versión en el repositorio es la que será evaluada. Por lo que es importante que: \n",
    "    - No envien el correo hasta no haber terminado y estar seguros de que han hecho el <i>commit y push</i> a la versión final que quieren entregar. Debido a que se pueden tomar hasta 3 días de extensión a lo largo del curso, no se corregirán sus tareas hasta no recibir el correo.\n",
    "    - No hagan nuevos <i>push</i> despues de haber entregado su versión final. Esto generaría confusión acerca de que versión es la que quieren que se les corrija. "
   ]
  },
  {
   "cell_type": "markdown",
   "metadata": {
    "id": "ZXbrPraa-c9i"
   },
   "source": [
    "#### Ejercicio 1\n",
    "Este ejercicio simplemente busca repasar lo que aprendimos sobre definición de variables. Definir dos variables con un nombre combinado (al menos dos palabras), una que se pueda crear y otra que tenga un nombre inaceptable (genera error). Explicar por qué ocurre el error."
   ]
  },
  {
   "cell_type": "code",
   "execution_count": 5,
   "metadata": {
    "id": "mb7PkXfN-c9j"
   },
   "outputs": [
    {
     "ename": "SyntaxError",
     "evalue": "invalid decimal literal (151894128.py, line 5)",
     "output_type": "error",
     "traceback": [
      "\u001b[1;36m  Cell \u001b[1;32mIn[5], line 5\u001b[1;36m\u001b[0m\n\u001b[1;33m    1_velez_sarsfield = (1,2)\u001b[0m\n\u001b[1;37m     ^\u001b[0m\n\u001b[1;31mSyntaxError\u001b[0m\u001b[1;31m:\u001b[0m invalid decimal literal\n"
     ]
    }
   ],
   "source": [
    "# Caso A\n",
    "velez_sarsfield = (1,2) #Definimos una variable correctamente.\n",
    "print(velez)\n",
    "# Caso B (acá debería saltar un error)\n",
    "1_velez_sarsfield = (1,2)\n",
    "#El error ocurre porque el nombre de la variable comienza con un número"
   ]
  },
  {
   "cell_type": "markdown",
   "metadata": {},
   "source": [
    "#### Ejercicio 2\n",
    "Importar módulos. Usando el módulo math impriman la tangente de 1. ¿Cuál es el resultado?\n",
    "Hagan este cálculo de dos formas: primero importando el módulo math y usando la función correspondiente y luego solo importando la función específica que precisan para el cálculo."
   ]
  },
  {
   "cell_type": "code",
   "execution_count": 4,
   "metadata": {},
   "outputs": [
    {
     "name": "stdout",
     "output_type": "stream",
     "text": [
      "1.5574077246549023\n",
      "1.5574077246549023\n"
     ]
    }
   ],
   "source": [
    "# Caso A\n",
    "#Importamos el modulo math y calulamos la tangente de 1 de dos formas distintas.\n",
    "import math \n",
    "print(math.tan(1))\n",
    "\n",
    "# Caso B\n",
    "from math import tan \n",
    "print(tan(1))"
   ]
  },
  {
   "cell_type": "markdown",
   "metadata": {
    "id": "GlNh0fyv-c9l"
   },
   "source": [
    "#### Ejercicio 3 \n",
    "Este ejercicio trata sobre lograr el intercambio de valores entre dos variables utilizando una variable temporal para hacerlo. Las variables temporales y la sustitución de valores termina siendo útil en algunos loops. Los pasos a seguir son: (a) definir variables A y B (cuyos valores buscaremos invertir); (b) definir una variable temporal que resguarde el valor de B; (c) sustitución (asignar B igual a A y también A igual al valor original de B); (d) imprimir valores para verificar."
   ]
  },
  {
   "cell_type": "code",
   "execution_count": 2,
   "metadata": {
    "id": "uWalSYFC-c9m"
   },
   "outputs": [
    {
     "name": "stdout",
     "output_type": "stream",
     "text": [
      "2\n",
      "1\n"
     ]
    }
   ],
   "source": [
    "# a) Definir variables A y B\n",
    "a = 1\n",
    "b = 2\n",
    "\n",
    "# b) Definir variable temporal \"tmp\" igual a B\n",
    "tmp = b\n",
    "\n",
    "# c) Sustitución: variable B igual a variable A y viceversa\n",
    "b = a\n",
    "a = tmp\n",
    "\n",
    "# d) Verificar resultados: imprimir variables A y B\n",
    "print(a)\n",
    "print(b)"
   ]
  },
  {
   "cell_type": "markdown",
   "metadata": {
    "id": "wXhAaRyN-c9p"
   },
   "source": [
    "#### Ejercicio 4\n",
    "En este ejercicio se busca poner en práctica el uso de range() en un for loop. \n",
    "\n",
    "Construir un for loop usando un range(). El range debe ser entre los valores que quieran (con una diferencia mínima de 15 entre start y stop), en incrementos de 3 unidades. Dentro del loop, implementar una sentencia condicional que imprima una leyenda indicando si el input es par o impar."
   ]
  },
  {
   "cell_type": "code",
   "execution_count": 7,
   "metadata": {
    "id": "_oE5sG0c-c9q"
   },
   "outputs": [
    {
     "name": "stdout",
     "output_type": "stream",
     "text": [
      "20 es par\n",
      "23 es impar\n",
      "26 es par\n",
      "29 es impar\n",
      "32 es par\n",
      "35 es impar\n",
      "38 es par\n",
      "41 es impar\n",
      "44 es par\n",
      "47 es impar\n"
     ]
    }
   ],
   "source": [
    "# Resolver aca\n",
    "#Construimos un for loop usando un range. Nos devolvera el resultado de si el numero es par o impar. \n",
    "for a in range(20, 50, 3):\n",
    "    if a % 2 == 0: # \n",
    "        print(a, \"es par\")\n",
    "    else:\n",
    "        print(a, \"es impar\")"
   ]
  },
  {
   "cell_type": "markdown",
   "metadata": {
    "id": "h3g5bXUB-c9u"
   },
   "source": [
    "#### Ejercicio 5\n",
    "Para practicar el uso de condiciones lógicas y la definición de funciones, construir una función con una sentencia condicional que verifique si un año es bisiesto o no. Para que un año sea bisiesto debe cumplir una de dos condiciones:\n",
    "\n",
    "(a) que sea divisible por 400; o\n",
    "\n",
    "(b) que sea divisible por 4 y no sea divisible por 100\n",
    "\n",
    "Notar que son dos condiciones, donde la segunda condición tiene dos componentes. Prueben la función con 3 valores para verificar que funcione."
   ]
  },
  {
   "cell_type": "code",
   "execution_count": 4,
   "metadata": {
    "id": "7_MnILdz-c9v"
   },
   "outputs": [
    {
     "name": "stdout",
     "output_type": "stream",
     "text": [
      "False\n",
      "False\n",
      "True\n"
     ]
    }
   ],
   "source": [
    "# Resolver acá\n",
    "def año_bisiesto(year):\n",
    "    if (year % 400 == 0) or (year % 4 == 0 and year % 100 != 0): #Verifica si un año es bisiesto o no. Si es bisiesto devuelve True, si no lo es devuelve False.\n",
    "        return True\n",
    "    else:\n",
    "        return False\n",
    "#probamos con 3 valores\n",
    "print(año_bisiesto(1999))\n",
    "print(año_bisiesto(2002))\n",
    "print(año_bisiesto(2024))\n",
    "#funciona correctamente\n"
   ]
  },
  {
   "cell_type": "markdown",
   "metadata": {
    "collapsed": true,
    "id": "P3a7bJkd-c9w",
    "jupyter": {
     "outputs_hidden": true
    }
   },
   "source": [
    "#### Ejercicio 6 \n",
    "Pongamos en práctica identificar el type() de cada variable. A continuación tenemos una lista con elementos de diferentes tipos. Construyan un for loop que itere sobre la lista e imprima un cartel indicando el tipo de dato u objeto que hay en cada caso."
   ]
  },
  {
   "cell_type": "code",
   "execution_count": 54,
   "metadata": {
    "id": "SAJgEiNEFQAS"
   },
   "outputs": [
    {
     "name": "stdout",
     "output_type": "stream",
     "text": [
      "10 es int\n",
      "34.5 es float\n",
      "99999 es int\n",
      "abc es str\n",
      "[1, 2, 3] es list\n",
      "('ARG', 1810) es tuple\n",
      "{'pob': 45} es bool\n",
      "True es bool\n"
     ]
    }
   ],
   "source": [
    "# Resolver acá\n",
    "#Creamos el loop que itere sobre la lista e indique que tipo de datos/ objetos hay dentro de la lista. \n",
    "mi_lista = [10, 34.5, 99999, 'abc', [1,2,3], ('ARG', 1810), {'pob': 45}, True]\n",
    "for elemento in mi_lista:\n",
    "    if type(elemento) == int: \n",
    "        print(elemento, \"es int\")\n",
    "    elif type(elemento) == float:\n",
    "        print(elemento, \"es float\")\n",
    "    elif type(elemento) == str:\n",
    "        print(elemento, \"es str\")\n",
    "    elif type(elemento) == list:\n",
    "        print(elemento, \"es list\")\n",
    "    elif type(elemento) == tuple:\n",
    "        print(elemento, \"es tuple\")\n",
    "    elif type(elemento) == dict:\n",
    "        print(elemento, \"es dict\")\n",
    "    else:\n",
    "        print(elemento, \"es bool\")"
   ]
  },
  {
   "cell_type": "markdown",
   "metadata": {
    "id": "y1lncitl-c9x"
   },
   "source": [
    "#### Ejercicio 7\n",
    "Ahora definan ustedes una nueva lista, en la que los primeros cuatro elementos sean palabras (strings), el quinto elemento no sea string, y el sexto sea string. Construyan un for loop que corra por la lista y que imprima la palabra y la longitud de la misma. Que el loop contenga una sentencia condicional que imprima un cartel \"Elemento no es un string: < el elemento > | < class del elemento >\" para los casos dónde el elemento evaluado no sea string."
   ]
  },
  {
   "cell_type": "code",
   "execution_count": 4,
   "metadata": {
    "id": "bFOk9Os0-c9x"
   },
   "outputs": [
    {
     "name": "stdout",
     "output_type": "stream",
     "text": [
      "Universidad: San andrés, Longitud: 10\n",
      "Universidad: UBA, Longitud: 3\n",
      "Universidad: Ditella, Longitud: 7\n",
      "Universidad: UCA, Longitud: 3\n",
      "Elemento no es un string: 100 | <class 'int'>\n",
      "Universidad: UADE, Longitud: 4\n"
     ]
    }
   ],
   "source": [
    "# Resolver acá\n",
    "#Definimos la lista con 5 strins y 1 numero entero.\n",
    "lista_universidades =[ 'San andrés', 'UBA', 'Ditella', 'UCA', 100, 'UADE']\n",
    "#Creamos el loop que nos dice la longitud de cada string y una advertencia en el caso del numero. Indicando Elemento no es un strin y la clase de dato que es.\n",
    "for universidad in lista_universidades :\n",
    "    if type(universidad) == str:\n",
    "        print(f'Universidad: {universidad}, Longitud: {len(universidad)}')\n",
    "    else:\n",
    "        print(f\"Elemento no es un string: {universidad} | {type(universidad)}\")"
   ]
  },
  {
   "cell_type": "markdown",
   "metadata": {
    "id": "PUpxDz72-c9x"
   },
   "source": [
    "#### Ejercicio 8\n",
    "Argentina tiene una representación legislativa proporcional en la cual la cantidad de diputados se debería ajustar según el tamaño de población de cada provincia. Otra característica de la representación legislativa del país es que hay una cantidad mínima de diputados por provincia (5). Esto genera un desbalance en la cantidad de ciudadanos por cada representante en el Congreso entre provincias.\n",
    "\n",
    "A continuación preparamos algunos ejemplos, dividiendo la población de cada provincia (según estimación para el 2022) por la cantidad de representantes en el Congreso para esa misma jurisdicción. También armamos el equivalente para el total país y una lista con los valores provinciales.\n",
    "\n",
    "En este ejercicio les pedimos que construyan un for loop que itere sobre el diccionario definido y compare cada valor provincial contra el valor de proporcionalidad directa (la variable argentina). El loop debe imprimir una leyenda que indique si la provincia está sobrerepresentada, subrepresentada o con representación proporcional. Además, queremos que el mismo loop compare los valores de las provincias sobrerepresentadas y que guarde el valor de la provincia con mayor sobrerepresentación. Luego del loop impriman este valor así podemos ver que haya funcionado.\n",
    "\n",
    "Fuente para población: https://es.wikipedia.org/wiki/Demograf%C3%ADa_de_Argentina\n",
    "\n",
    "Fuente para representantes: https://es.wikipedia.org/wiki/C%C3%A1mara_de_Diputados_de_la_Naci%C3%B3n_Argentina"
   ]
  },
  {
   "cell_type": "code",
   "execution_count": 25,
   "metadata": {
    "id": "hd8Z5AHs-c9y"
   },
   "outputs": [],
   "source": [
    "# Valor de referencia: proporcionalidad\n",
    "argentina = 46044703 / 257\n",
    "\n",
    "# Creamos variables para una selección de jurisdicciones\n",
    "cordoba = 3978984 / 18\n",
    "santa_fe = 3556522 / 19\n",
    "mendoza = 2014533 / 10\n",
    "buenos_aires = 17569053 / 70\n",
    "entre_rios =  1426426 / 9\n",
    "santa_cruz = 333473 / 5\n",
    "formosa = 606041 / 5\n",
    "\n",
    "# Definimos el diccionario para iterar\n",
    "dict_provincias = {\n",
    "    \"Córdoba\": cordoba,\n",
    "    \"Santa Fe\": santa_fe,\n",
    "    \"Mendoza\": mendoza,\n",
    "    \"Buenos Aires\": buenos_aires,\n",
    "    \"Entre Ríos\": entre_rios,\n",
    "    \"Santa Cruz\": santa_cruz,\n",
    "    \"Formosa\": formosa\n",
    "}"
   ]
  },
  {
   "cell_type": "code",
   "execution_count": 32,
   "metadata": {},
   "outputs": [
    {
     "name": "stdout",
     "output_type": "stream",
     "text": [
      "Córdoba está sobrerepresentada\n",
      "Santa Fe está sobrerepresentada\n",
      "Mendoza está sobrerepresentada\n",
      "Buenos Aires está sobrerepresentada\n",
      "Entre Ríos está subrepresentada\n",
      "Santa Cruz está subrepresentada\n",
      "Formosa está subrepresentada\n",
      "Buenos Aires es la provincia con mayor sobrerepresentación con un valor de 250986.4714285714\n"
     ]
    }
   ],
   "source": [
    "\n",
    "# Lo que vamos a hacer ahora es inicializar la variable para guardar la provincia con mayor sobrerepresentación\n",
    "max_sobre_rep= 0\n",
    "provincia_max_sobrerep = \"\"\n",
    "\n",
    "# Creamos el loop exigido\n",
    "for provincia, poblacion in dict_provincias.items():\n",
    "    if poblacion < argentina:\n",
    "        print(f\"{provincia} está subrepresentada\")\n",
    "    elif poblacion > argentina:\n",
    "        print(f\"{provincia} está sobrerepresentada\")\n",
    "        # Comparamos las provincias y guardamos la provincia con mayor sobrerepresentación\n",
    "        if poblacion > max_sobre_rep:\n",
    "            max_sobre_rep = poblacion\n",
    "            provincia_max_sobrerep = provincia\n",
    "    else:\n",
    "        print(f\"{provincia} está bien representada\")\n",
    "\n",
    "#Por ultimo imprimimos la provincia con mayor sobrerepresentación\n",
    "if provincia_max_sobrerep:\n",
    "    print(f\"{provincia_max_sobrerep} es la provincia con mayor sobrerepresentación con un valor de {max_sobre_rep}\")\n",
    "else:\n",
    "    print(\"No hay provincias sobrerepresentadas\")\n"
   ]
  },
  {
   "cell_type": "markdown",
   "metadata": {
    "id": "GokZe5tV-c9z"
   },
   "source": [
    "#### Ejercicio 9\n",
    "Si buscáramos minimizar la subrepresentación de la provincia de Buenos Aires, ¿cuántos representantes debería tener según el Censo 2022? Usemos el mismo criterio de sub/sobrerepresentacion que en el ejercicio anterior: población sobre cantidad de representantes.\n",
    "\n",
    "Para responder esta pregunta construyan un while loop que incremente de a uno la cantidad de representantes de la Provincia hasta minimizar la subrepresentación. En cada iteración impriman un cartel que diga: \"Se agregó un representante, el total ahora es X\" dónde X es el número de representantes simulado."
   ]
  },
  {
   "cell_type": "code",
   "execution_count": 38,
   "metadata": {},
   "outputs": [
    {
     "name": "stdout",
     "output_type": "stream",
     "text": [
      "La provincia de Buenos Aires está sobrerepresentada.\n"
     ]
    }
   ],
   "source": [
    "# Estos son los valores de la provincia\n",
    "representantes_pba = 70\n",
    "poblacion2010_pba = 17594428  \n",
    "\n",
    "# Y el valor de referencia nacional\n",
    "argentina_ = 46044703 / 257\n",
    "\n",
    "# Calculamos la proporción actual\n",
    "proporcion_actual = poblacion2010_pba / representantes_pba\n",
    "\n",
    "#Primero nos fiajmos que la provincia de buenos aires este subrepresentada. (Obs! Nos da que esta sobrerepresentada). \n",
    "\n",
    "if proporcion_actual > argentina_:\n",
    "    print(\"La provincia de Buenos Aires está sobrerepresentada.\")\n",
    "elif proporcion_actual < argentina_:\n",
    "    print(\"La provincia de Buenos Aires está subrepresentada.\")\n",
    "else:\n",
    "    print(\"La provincia de Buenos Aires está bien representada.\") \n"
   ]
  },
  {
   "cell_type": "code",
   "execution_count": 39,
   "metadata": {
    "id": "x9DvuXa_-c9z"
   },
   "outputs": [
    {
     "name": "stdout",
     "output_type": "stream",
     "text": [
      "La provincia de Buenos Aires debería tener 70 representantes para minimizar la subrepresentación.\n"
     ]
    }
   ],
   "source": [
    "\n",
    "# Iteramos hasta minimizar la subrepresentación\n",
    "# Para que se agregue 1 cuando esta subrepresentada cambiamos la condicion de bucle (<)\n",
    "\n",
    "while proporcion_actual < argentina_:\n",
    "    representantes_pba += 1  # Sumamos de a 1 representante.\n",
    "    proporcion_actual = poblacion2010_pba / representantes_pba  #Cambiamos al nuevo numero de representantes\n",
    "    print(f\"Se agregó un representante, el total ahora es {representantes_pba}\")\n",
    "\n",
    "# Por ultimo, lo que hacemos es printear el número final de representantes\n",
    "print(f\"La provincia de Buenos Aires debería tener {representantes_pba} representantes para minimizar la subrepresentación.\")\n"
   ]
  },
  {
   "cell_type": "markdown",
   "metadata": {},
   "source": [
    "#### Ejercicio 10"
   ]
  },
  {
   "cell_type": "markdown",
   "metadata": {},
   "source": [
    "Construyan una función llamada 'suma' que tome una cantidad variable de parámetros y devuelva el resultado de la suma."
   ]
  },
  {
   "cell_type": "code",
   "execution_count": 37,
   "metadata": {},
   "outputs": [
    {
     "name": "stdout",
     "output_type": "stream",
     "text": [
      "20\n",
      "100\n"
     ]
    }
   ],
   "source": [
    "def suma(*args):\n",
    "    resultado = 0\n",
    "    for num in args:\n",
    "        resultado += num\n",
    "    print(resultado)\n",
    "\n",
    "suma(5, 9, 6)\n",
    "suma(20, 66, 14)"
   ]
  }
 ],
 "metadata": {
  "anaconda-cloud": {},
  "colab": {
   "name": "TP1 - Parte 1.ipynb",
   "provenance": []
  },
  "kernelspec": {
   "display_name": "Python 3 (ipykernel)",
   "language": "python",
   "name": "python3"
  },
  "language_info": {
   "codemirror_mode": {
    "name": "ipython",
    "version": 3
   },
   "file_extension": ".py",
   "mimetype": "text/x-python",
   "name": "python",
   "nbconvert_exporter": "python",
   "pygments_lexer": "ipython3",
   "version": "3.12.2"
  }
 },
 "nbformat": 4,
 "nbformat_minor": 4
}
