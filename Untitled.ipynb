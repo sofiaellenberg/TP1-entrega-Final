{
 "cells": [
  {
   "cell_type": "code",
   "execution_count": null,
   "id": "178db6ac-0e33-4b47-bf7a-0419b1707c08",
   "metadata": {},
   "outputs": [],
   "source": [
    "import csv\n",
    "with open(\"Base Airbnb NY.csv\", 'r') as file:\n",
    "    archivo = csv.reader(file)"
   ]
  }
 ],
 "metadata": {
  "kernelspec": {
   "display_name": "Python 3 (ipykernel)",
   "language": "python",
   "name": "python3"
  },
  "language_info": {
   "codemirror_mode": {
    "name": "ipython",
    "version": 3
   },
   "file_extension": ".py",
   "mimetype": "text/x-python",
   "name": "python",
   "nbconvert_exporter": "python",
   "pygments_lexer": "ipython3",
   "version": "3.11.7"
  }
 },
 "nbformat": 4,
 "nbformat_minor": 5
}
